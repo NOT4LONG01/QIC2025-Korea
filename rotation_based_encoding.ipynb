{
 "cells": [
  {
   "cell_type": "code",
   "execution_count": null,
   "id": "29ebaae8",
   "metadata": {},
   "outputs": [],
   "source": [
    "from qiskit import QuantumCircuit\n",
    "from qiskit import QuantumCircuit, QuantumRegister, ClassicalRegister\n",
    "from qiskit.circuit.library import RYGate\n",
    "import numpy as np\n",
    "\n",
    "cube1 = QuantumRegister(1, name=\"cube1\")  # 4 qubits for 4 colors\n",
    "cube2 = QuantumRegister(1, name=\"cube2\")\n",
    "cube3 = QuantumRegister(1, name=\"cube3\")\n",
    "cube4 = QuantumRegister(1, name=\"cube4\")\n",
    "qc = QuantumCircuit(cube1, cube2, cube3, cube4, name=\"InstantInsanityAnsatz\")\n",
    "\n",
    "\n",
    "cube = ['+X', '-X', '+Y', '-Y', '+Z', '-Z']\n",
    "\n",
    "cube_top = ['X', 'Y', 'Z']\n",
    "cube_bottom = []\n",
    "cube_front = []\n",
    "cube_back = []\n",
    "\n",
    "cube1 = ['+X', '-X', '-X', '-X', '+Z', '-Z']\n",
    "cube2 = ['+X', '+X', '-X', '+Z', '-Z', '-Z']\n",
    "cube3 = ['+X', '-X', '+Z', '+Z', '-Z', '-Z']\n",
    "cube4 = ['+X', '+X', '-X', '-X', '+Z', '-Z']\n",
    "\n"
   ]
  },
  {
   "cell_type": "code",
   "execution_count": 49,
   "id": "77365643",
   "metadata": {},
   "outputs": [
    {
     "data": {
      "image/png": "[encoded data removed]",
      "text/plain": [
       "<Figure size 770.731x117.056 with 1 Axes>"
      ]
     },
     "execution_count": 49,
     "metadata": {},
     "output_type": "execute_result"
    }
   ],
   "source": [
    "from qiskit.circuit.library import TwoLocal\n",
    "from qiskit import QuantumCircuit\n",
    "\n",
    "# 4 qubits, rx\n",
    "ansatz = TwoLocal(\n",
    "    num_qubits=1,\n",
    "    rotation_blocks=['rx', 'rz'],\n",
    "    entanglement_blocks=None,  # 얽힘 없음\n",
    "    entanglement=None,\n",
    "    reps=3\n",
    ")\n",
    "\n",
    "ansatz.decompose().draw('mpl')\n"
   ]
  },
  {
   "cell_type": "code",
   "execution_count": 50,
   "id": "da57d4c2",
   "metadata": {},
   "outputs": [
    {
     "name": "stdout",
     "output_type": "stream",
     "text": [
      "SparsePauliOp(['I', 'Z'],\n",
      "              coeffs=[ 0.5+0.j, -0.5+0.j])\n"
     ]
    }
   ],
   "source": [
    "from qiskit.quantum_info import SparsePauliOp\n",
    "from qiskit.quantum_info import Pauli, SparsePauliOp\n",
    "\n",
    "# H = I - |0000><0000| = I - (1 + Z0)(1 + Z1)(1 + Z2)(1 + Z3)/16\n",
    "# 전개 시 총 16개의 항이 생깁니다.\n",
    "'''\n",
    "terms = []\n",
    "coeffs = []\n",
    "\n",
    "for i in range(2):  # 2^4\n",
    "    bin_str = f\"{i:02b}\"\n",
    "    pauli_str = ''\n",
    "    coeff = 1.0\n",
    "    for b in bin_str:\n",
    "        if b == '0':\n",
    "            pauli_str += 'X'\n",
    "            coeff *= 1\n",
    "        else:\n",
    "            pauli_str += 'Z'\n",
    "            coeff *= -1\n",
    "    terms.append(pauli_str[::-1])  # Qiskit은 오른쪽이 qubit 0\n",
    "    coeffs.append(coeff / 2)\n",
    "\n",
    "terms.append('I')\n",
    "coeffs.append(-1)  # I - projector\n",
    "\n",
    "observable = SparsePauliOp.from_list(list(zip(terms, coeffs)))\n",
    "'''\n",
    "\n",
    "observable = SparsePauliOp.from_list([\n",
    "    ('I', 0.5),\n",
    "    ('Z', -0.5)\n",
    "])\n",
    "print(observable)"
   ]
  },
  {
   "cell_type": "code",
   "execution_count": 51,
   "id": "5568895c",
   "metadata": {},
   "outputs": [],
   "source": [
    "import numpy as np\n",
    "from qiskit.transpiler.preset_passmanagers import generate_preset_pass_manager\n",
    "\n",
    "def calculate_overlaps(ansatz, prev_circuits, parameters, sampler, realbackend,backend):\n",
    "\n",
    "    def create_fidelity_circuit(circuit_1, circuit_2):\n",
    "        if len(circuit_1.clbits) > 0:\n",
    "            circuit_1.remove_final_measurements()\n",
    "        if len(circuit_2.clbits) > 0:\n",
    "            circuit_2.remove_final_measurements()\n",
    "\n",
    "        circuit = circuit_1.compose(circuit_2.inverse())\n",
    "        circuit.measure_all()\n",
    "        return circuit\n",
    "    overlaps = []\n",
    "\n",
    "    for prev_circuit in prev_circuits:\n",
    "        fidelity_circuit = create_fidelity_circuit(ansatz, prev_circuit)\n",
    "        if realbackend == 1:\n",
    "            pm = generate_preset_pass_manager(backend=backend, optimization_level=3)\n",
    "            fidelity_circuit = pm.run(fidelity_circuit)\n",
    "        sampler_job = sampler.run([(fidelity_circuit, parameters)])\n",
    "        meas_data = sampler_job.result()[0].data.meas\n",
    "        \n",
    "        counts_0 = meas_data.get_int_counts().get(0, 0)\n",
    "        shots = meas_data.num_shots\n",
    "        overlap = counts_0/shots\n",
    "        overlaps.append(overlap)\n",
    "    \n",
    "    return np.array(overlaps)"
   ]
  },
  {
   "cell_type": "code",
   "execution_count": 52,
   "id": "9fe6c2f3",
   "metadata": {},
   "outputs": [],
   "source": [
    "def cost_func_vqd(parameters, ansatz, prev_states, step, betas, estimator, sampler, hamiltonian, realbackend, backend):\n",
    "\n",
    "    estimator_job = estimator.run([(ansatz, hamiltonian, [parameters])])\n",
    "\n",
    "    total_cost = 0\n",
    "\n",
    "    if step > 1:\n",
    "        overlaps = calculate_overlaps(ansatz, prev_states, parameters, sampler, realbackend, backend)\n",
    "        total_cost = np.sum([np.real(betas[state] * overlap) for state, overlap in enumerate(overlaps)])\n",
    "\n",
    "    estimator_result = estimator_job.result()[0]\n",
    "\n",
    "    value = estimator_result.data.evs[0] + total_cost\n",
    "\n",
    "    return value"
   ]
  },
  {
   "cell_type": "code",
   "execution_count": 53,
   "id": "758e0a0d",
   "metadata": {},
   "outputs": [],
   "source": [
    "from qiskit.primitives import StatevectorSampler\n",
    "from qiskit.primitives import StatevectorEstimator\n",
    "\n",
    "sampler = StatevectorSampler(default_shots=4092)\n",
    "estimator = StatevectorEstimator()"
   ]
  },
  {
   "cell_type": "code",
   "execution_count": 60,
   "id": "5da4ab80",
   "metadata": {},
   "outputs": [],
   "source": [
    "from qiskit.quantum_info import SparsePauliOp\n",
    "import numpy as np\n",
    "\n",
    "k = 4\n",
    "betas = [100, 100, 100]\n",
    "x0 = np.zeros(8)"
   ]
  },
  {
   "cell_type": "code",
   "execution_count": 61,
   "id": "b44a4d24",
   "metadata": {},
   "outputs": [
    {
     "name": "stdout",
     "output_type": "stream",
     "text": [
      " message: Optimization terminated successfully.\n",
      " success: True\n",
      "  status: 1\n",
      "     fun: 9.477418849712649e-13\n",
      "       x: [-4.751e-07  1.250e-01 -3.459e-07  5.002e-07 -6.579e-07\n",
      "            9.114e-12 -4.710e-07 -1.575e-11]\n",
      "    nfev: 107\n",
      "   maxcv: 0.0\n",
      " message: Optimization terminated successfully.\n",
      " success: True\n",
      "  status: 1\n",
      "     fun: 1.121250522307169\n",
      "       x: [ 1.090e+00 -3.398e-03  1.075e+00  2.755e-02  1.019e+00\n",
      "            1.001e+00  1.632e-02  2.507e-02]\n",
      "    nfev: 104\n",
      "   maxcv: 0.0\n",
      " message: Optimization terminated successfully.\n",
      " success: True\n",
      "  status: 1\n",
      "     fun: 97.95021665105803\n",
      "       x: [ 1.001e+00  1.001e+00  8.795e-01  5.891e-04 -3.070e-02\n",
      "            4.191e-04 -7.885e-04 -4.372e-04]\n",
      "    nfev: 95\n",
      "   maxcv: 0.0\n",
      " message: Optimization terminated successfully.\n",
      " success: True\n",
      "  status: 1\n",
      "     fun: 103.23937901601916\n",
      "       x: [-1.156e+00  8.239e-01 -5.201e-01  1.768e-01 -5.350e-01\n",
      "           -1.894e-01  3.764e-01  6.673e-02]\n",
      "    nfev: 125\n",
      "   maxcv: 0.0\n"
     ]
    }
   ],
   "source": [
    "from scipy.optimize import minimize\n",
    "\n",
    "prev_states = []\n",
    "prev_opt_parameters = []\n",
    "eigenvalues = []\n",
    "\n",
    "realbackend = 0\n",
    "\n",
    "for step in range(1, k + 1):\n",
    "    \n",
    "    if step > 1:\n",
    "        prev_states.append(ansatz.assign_parameters(prev_opt_parameters))\n",
    "    \n",
    "    result = minimize(cost_func_vqd, x0, args=(ansatz, prev_states, step, betas, estimator, sampler, observable, realbackend, None), method=\"COBYLA\", options={'maxiter': 200, 'tol':0.000001})\n",
    "    print(result)\n",
    "\n",
    "    prev_opt_parameters = result.x\n",
    "    eigenvalues.append(result.fun)"
   ]
  },
  {
   "cell_type": "code",
   "execution_count": 12,
   "id": "3a281791",
   "metadata": {},
   "outputs": [
    {
     "name": "stdout",
     "output_type": "stream",
     "text": [
      "1.000+0.000j * II\n",
      "0.500+0.000j * IX\n",
      "-1.000+0.000j * IZ\n",
      "3.000+0.000j * XI\n",
      "2.000+0.000j * XX\n",
      "-0.500+0.000j * ZI\n",
      "0.500+0.000j * ZX\n",
      "0.500+0.000j * ZZ\n"
     ]
    }
   ],
   "source": [
    "from qiskit.quantum_info import Operator, SparsePauliOp\n",
    "import numpy as np\n",
    "\n",
    "# 예시: 2-큐비트 Hermitian 행렬\n",
    "H = np.array([\n",
    "    [0, 1, 3, 2],\n",
    "    [1, 1, 2, 3],\n",
    "    [3, 2, 0, 0],\n",
    "    [2, 3, 0, 3]\n",
    "], dtype=complex)\n",
    "\n",
    "\n",
    "op = Operator(H)\n",
    "\n",
    "# 3. SparsePauliOp로 Pauli basis 분해\n",
    "pauli_decomp = SparsePauliOp.from_operator(op)\n",
    "\n",
    "# 4. 출력\n",
    "for pauli, coeff in zip(pauli_decomp.paulis, pauli_decomp.coeffs):\n",
    "    if not np.isclose(coeff, 0):\n",
    "        print(f\"{coeff:.3f} * {pauli}\")"
   ]
  },
  {
   "cell_type": "code",
   "execution_count": 13,
   "id": "f77cf848",
   "metadata": {},
   "outputs": [
    {
     "name": "stdout",
     "output_type": "stream",
     "text": [
      "고윳값:\n",
      "[-3.81304545 -0.73722724  1.78881388  6.76145881]\n",
      "\n",
      "고유벡터 (열 벡터):\n",
      "[[ 0.59019253+0.j -0.53694538+0.j -0.42922303+0.j  0.42323755+0.j]\n",
      " [ 0.35131237+0.j  0.77010195+0.j  0.04301563+0.j  0.53072805+0.j]\n",
      " [-0.64861601+0.j  0.09580797+0.j -0.67175118+0.j  0.34477305+0.j]\n",
      " [-0.32794764+0.j -0.33083755+0.j  0.6022189 +0.j  0.64832805+0.j]]\n"
     ]
    }
   ],
   "source": [
    "# 고윳값, 고유벡터 계산\n",
    "eigvals, eigvecs = np.linalg.eigh(op.data)  # .data는 ndarray\n",
    "\n",
    "# 출력\n",
    "print(\"고윳값:\")\n",
    "print(eigvals)\n",
    "\n",
    "print(\"\\n고유벡터 (열 벡터):\")\n",
    "print(eigvecs)"
   ]
  },
  {
   "cell_type": "code",
   "execution_count": null,
   "id": "f7092a08",
   "metadata": {},
   "outputs": [
    {
     "name": "stdout",
     "output_type": "stream",
     "text": [
      "Problem name: my problem\n",
      "\n",
      "Minimize\n",
      "  0\n",
      "\n",
      "Subject to\n",
      "  No constraints\n",
      "\n",
      "  No variables\n",
      "\n"
     ]
    }
   ],
   "source": []
  },
  {
   "cell_type": "code",
   "execution_count": null,
   "id": "c84216f4",
   "metadata": {},
   "outputs": [],
   "source": []
  }
 ],
 "metadata": {
  "kernelspec": {
   "display_name": "base",
   "language": "python",
   "name": "python3"
  },
  "language_info": {
   "codemirror_mode": {
    "name": "ipython",
    "version": 3
   },
   "file_extension": ".py",
   "mimetype": "text/x-python",
   "name": "python",
   "nbconvert_exporter": "python",
   "pygments_lexer": "ipython3",
   "version": "3.12.7"
  }
 },
 "nbformat": 4,
 "nbformat_minor": 5
}
